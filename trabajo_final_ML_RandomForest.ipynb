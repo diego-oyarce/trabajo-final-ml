{
  "nbformat": 4,
  "nbformat_minor": 0,
  "metadata": {
    "colab": {
      "provenance": [],
      "authorship_tag": "ABX9TyMZ5DOFEHo0f9yNmKqFJStb",
      "include_colab_link": true
    },
    "kernelspec": {
      "name": "python3",
      "display_name": "Python 3"
    },
    "language_info": {
      "name": "python"
    }
  },
  "cells": [
    {
      "cell_type": "markdown",
      "metadata": {
        "id": "view-in-github",
        "colab_type": "text"
      },
      "source": [
        "<a href=\"https://colab.research.google.com/github/diego-oyarce/trabajo-final-ml/blob/main/trabajo_final_ML_RandomForest.ipynb\" target=\"_parent\"><img src=\"https://colab.research.google.com/assets/colab-badge.svg\" alt=\"Open In Colab\"/></a>"
      ]
    },
    {
      "cell_type": "markdown",
      "source": [
        "# Prueba de ciencia de datos de Empresa SoftWorld"
      ],
      "metadata": {
        "id": "eRx3tglpk20t"
      }
    },
    {
      "cell_type": "markdown",
      "source": [
        "Primero se procede a importar las librerias necesarias para trabajar con los datos y realizar el modelo de aprendizaje automático."
      ],
      "metadata": {
        "id": "9RUEB3UDlAYa"
      }
    },
    {
      "cell_type": "code",
      "execution_count": 153,
      "metadata": {
        "id": "ukU9UJLciBz6"
      },
      "outputs": [],
      "source": [
        "import pandas as pd\n",
        "import numpy as np\n",
        "from datetime import datetime\n",
        "from sklearn.model_selection import train_test_split\n",
        "from sklearn.preprocessing import LabelEncoder\n",
        "from sklearn.ensemble import RandomForestRegressor\n",
        "from sklearn.metrics import mean_squared_error"
      ]
    },
    {
      "cell_type": "markdown",
      "source": [
        "Una vez importadas las librerias y funciones se continua con la lectura de archivos. Para esto se utiliza pandas."
      ],
      "metadata": {
        "id": "pYdRPrm3mJMl"
      }
    },
    {
      "cell_type": "code",
      "source": [
        "orders = pd.read_csv('orders.csv')\n",
        "order_products = pd.read_csv('order_products.csv')\n",
        "shoppers = pd.read_csv('shoppers.csv')\n",
        "store_branch = pd.read_csv('storebranch.csv')"
      ],
      "metadata": {
        "id": "zacJXe9gmWra"
      },
      "execution_count": 154,
      "outputs": []
    },
    {
      "cell_type": "markdown",
      "source": [
        "Se renombran los campos de lan y lng de los dataset orders y storebranch para no tener problemas en la fusión."
      ],
      "metadata": {
        "id": "a8PDX_bQ-6Tw"
      }
    },
    {
      "cell_type": "code",
      "source": [
        "orders.rename(columns={'lat': 'order_lat', 'lng': 'order_lng'}, inplace=True)\n",
        "store_branch.rename(columns={'lat': 'branch_lat', 'lng': 'branch_lng'}, inplace=True)"
      ],
      "metadata": {
        "id": "Hv4XqfxT_DGe"
      },
      "execution_count": 155,
      "outputs": []
    },
    {
      "cell_type": "markdown",
      "source": [
        "A continuación, se unen los conjuntos de datos relevantes haciendo uso de las columnas clave."
      ],
      "metadata": {
        "id": "UejXrt5on3Hl"
      }
    },
    {
      "cell_type": "code",
      "source": [
        "data = orders.merge(order_products, on='order_id')\n",
        "data = data.merge(shoppers, on='shopper_id')\n",
        "data = data.merge(store_branch, on='store_branch_id')"
      ],
      "metadata": {
        "id": "clmkQEipoCf8"
      },
      "execution_count": 156,
      "outputs": []
    },
    {
      "cell_type": "markdown",
      "source": [
        "Se codifican las variables categóricas, en este caso solo 'buy_unit'"
      ],
      "metadata": {
        "id": "CzSMr2qZAos9"
      }
    },
    {
      "cell_type": "code",
      "source": [
        "data = pd.get_dummies(data, columns=['buy_unit', 'on_demand'])"
      ],
      "metadata": {
        "id": "9T4H3i3EB4vT"
      },
      "execution_count": 157,
      "outputs": []
    },
    {
      "cell_type": "markdown",
      "source": [
        "Ahora se transforma el campo 'promised_time' a valores numéricos que se puedan usar en el modelo."
      ],
      "metadata": {
        "id": "ERNF0OwCK8kr"
      }
    },
    {
      "cell_type": "code",
      "source": [
        "data['promised_time'] = pd.to_datetime(data['promised_time'])\n",
        "data['promised_day'] = data['promised_time'].dt.day\n",
        "data['promised_month'] = data['promised_time'].dt.month\n",
        "data['promised_dayofweek'] = data['promised_time'].dt.dayofweek\n",
        "data['promised_hour'] = data['promised_time'].dt.hour"
      ],
      "metadata": {
        "id": "PphkmkulLNv0"
      },
      "execution_count": 158,
      "outputs": []
    },
    {
      "cell_type": "markdown",
      "source": [
        "Para continuar, se eliminan las filas con datos faltantes."
      ],
      "metadata": {
        "id": "UwfvdUcIL8S5"
      }
    },
    {
      "cell_type": "code",
      "source": [
        "data.dropna(inplace=True)"
      ],
      "metadata": {
        "id": "f13R2ZANMBf7"
      },
      "execution_count": 159,
      "outputs": []
    },
    {
      "cell_type": "markdown",
      "source": [
        "Se seleccionan las características relevantes para el modelo."
      ],
      "metadata": {
        "id": "G2M3DnLe9hLo"
      }
    },
    {
      "cell_type": "code",
      "source": [
        "features = ['quantity', 'found_rate', 'picking_speed', 'accepted_rate', 'rating',\n",
        "            'buy_unit_KG', 'buy_unit_UN', 'on_demand_False', 'on_demand_True',\n",
        "            'order_lat', 'order_lng', 'promised_day', 'promised_month', 'promised_dayofweek', 'promised_hour',\n",
        "            'branch_lat', 'branch_lng']\n",
        "target = 'total_minutes'"
      ],
      "metadata": {
        "id": "nbLF1oow9nI2"
      },
      "execution_count": 160,
      "outputs": []
    },
    {
      "cell_type": "markdown",
      "source": [
        "Se continúa dividiendo los datos en características y variable objetivo."
      ],
      "metadata": {
        "id": "5KH3SpKb98-L"
      }
    },
    {
      "cell_type": "code",
      "source": [
        "X = data[features]\n",
        "y = data[target]"
      ],
      "metadata": {
        "id": "mkR_cyZF-DXa"
      },
      "execution_count": 161,
      "outputs": []
    },
    {
      "cell_type": "markdown",
      "source": [
        "Ahora se dividen los datos en conjuntos aleatorios de prueba y entrenamiento."
      ],
      "metadata": {
        "id": "c6J_NzRpDfhT"
      }
    },
    {
      "cell_type": "code",
      "source": [
        "X_train, X_test, y_train, y_test = train_test_split(X, y, test_size=0.2, random_state=42)"
      ],
      "metadata": {
        "id": "JARwReYNDmyD"
      },
      "execution_count": 162,
      "outputs": []
    },
    {
      "cell_type": "markdown",
      "source": [
        "A continuación se crea y entrena un modelo Random Forest para realizar las predicciones."
      ],
      "metadata": {
        "id": "gozv4D2_Dq8E"
      }
    },
    {
      "cell_type": "code",
      "source": [
        "model = RandomForestRegressor(n_estimators=100, random_state=42)\n",
        "model.fit(X_train, y_train)"
      ],
      "metadata": {
        "colab": {
          "base_uri": "https://localhost:8080/",
          "height": 75
        },
        "id": "JT_UsdA7DwN8",
        "outputId": "1b083b84-f3c2-4787-c259-521562b42ae0"
      },
      "execution_count": 164,
      "outputs": [
        {
          "output_type": "execute_result",
          "data": {
            "text/plain": [
              "RandomForestRegressor(random_state=42)"
            ],
            "text/html": [
              "<style>#sk-container-id-3 {color: black;background-color: white;}#sk-container-id-3 pre{padding: 0;}#sk-container-id-3 div.sk-toggleable {background-color: white;}#sk-container-id-3 label.sk-toggleable__label {cursor: pointer;display: block;width: 100%;margin-bottom: 0;padding: 0.3em;box-sizing: border-box;text-align: center;}#sk-container-id-3 label.sk-toggleable__label-arrow:before {content: \"▸\";float: left;margin-right: 0.25em;color: #696969;}#sk-container-id-3 label.sk-toggleable__label-arrow:hover:before {color: black;}#sk-container-id-3 div.sk-estimator:hover label.sk-toggleable__label-arrow:before {color: black;}#sk-container-id-3 div.sk-toggleable__content {max-height: 0;max-width: 0;overflow: hidden;text-align: left;background-color: #f0f8ff;}#sk-container-id-3 div.sk-toggleable__content pre {margin: 0.2em;color: black;border-radius: 0.25em;background-color: #f0f8ff;}#sk-container-id-3 input.sk-toggleable__control:checked~div.sk-toggleable__content {max-height: 200px;max-width: 100%;overflow: auto;}#sk-container-id-3 input.sk-toggleable__control:checked~label.sk-toggleable__label-arrow:before {content: \"▾\";}#sk-container-id-3 div.sk-estimator input.sk-toggleable__control:checked~label.sk-toggleable__label {background-color: #d4ebff;}#sk-container-id-3 div.sk-label input.sk-toggleable__control:checked~label.sk-toggleable__label {background-color: #d4ebff;}#sk-container-id-3 input.sk-hidden--visually {border: 0;clip: rect(1px 1px 1px 1px);clip: rect(1px, 1px, 1px, 1px);height: 1px;margin: -1px;overflow: hidden;padding: 0;position: absolute;width: 1px;}#sk-container-id-3 div.sk-estimator {font-family: monospace;background-color: #f0f8ff;border: 1px dotted black;border-radius: 0.25em;box-sizing: border-box;margin-bottom: 0.5em;}#sk-container-id-3 div.sk-estimator:hover {background-color: #d4ebff;}#sk-container-id-3 div.sk-parallel-item::after {content: \"\";width: 100%;border-bottom: 1px solid gray;flex-grow: 1;}#sk-container-id-3 div.sk-label:hover label.sk-toggleable__label {background-color: #d4ebff;}#sk-container-id-3 div.sk-serial::before {content: \"\";position: absolute;border-left: 1px solid gray;box-sizing: border-box;top: 0;bottom: 0;left: 50%;z-index: 0;}#sk-container-id-3 div.sk-serial {display: flex;flex-direction: column;align-items: center;background-color: white;padding-right: 0.2em;padding-left: 0.2em;position: relative;}#sk-container-id-3 div.sk-item {position: relative;z-index: 1;}#sk-container-id-3 div.sk-parallel {display: flex;align-items: stretch;justify-content: center;background-color: white;position: relative;}#sk-container-id-3 div.sk-item::before, #sk-container-id-3 div.sk-parallel-item::before {content: \"\";position: absolute;border-left: 1px solid gray;box-sizing: border-box;top: 0;bottom: 0;left: 50%;z-index: -1;}#sk-container-id-3 div.sk-parallel-item {display: flex;flex-direction: column;z-index: 1;position: relative;background-color: white;}#sk-container-id-3 div.sk-parallel-item:first-child::after {align-self: flex-end;width: 50%;}#sk-container-id-3 div.sk-parallel-item:last-child::after {align-self: flex-start;width: 50%;}#sk-container-id-3 div.sk-parallel-item:only-child::after {width: 0;}#sk-container-id-3 div.sk-dashed-wrapped {border: 1px dashed gray;margin: 0 0.4em 0.5em 0.4em;box-sizing: border-box;padding-bottom: 0.4em;background-color: white;}#sk-container-id-3 div.sk-label label {font-family: monospace;font-weight: bold;display: inline-block;line-height: 1.2em;}#sk-container-id-3 div.sk-label-container {text-align: center;}#sk-container-id-3 div.sk-container {/* jupyter's `normalize.less` sets `[hidden] { display: none; }` but bootstrap.min.css set `[hidden] { display: none !important; }` so we also need the `!important` here to be able to override the default hidden behavior on the sphinx rendered scikit-learn.org. See: https://github.com/scikit-learn/scikit-learn/issues/21755 */display: inline-block !important;position: relative;}#sk-container-id-3 div.sk-text-repr-fallback {display: none;}</style><div id=\"sk-container-id-3\" class=\"sk-top-container\"><div class=\"sk-text-repr-fallback\"><pre>RandomForestRegressor(random_state=42)</pre><b>In a Jupyter environment, please rerun this cell to show the HTML representation or trust the notebook. <br />On GitHub, the HTML representation is unable to render, please try loading this page with nbviewer.org.</b></div><div class=\"sk-container\" hidden><div class=\"sk-item\"><div class=\"sk-estimator sk-toggleable\"><input class=\"sk-toggleable__control sk-hidden--visually\" id=\"sk-estimator-id-3\" type=\"checkbox\" checked><label for=\"sk-estimator-id-3\" class=\"sk-toggleable__label sk-toggleable__label-arrow\">RandomForestRegressor</label><div class=\"sk-toggleable__content\"><pre>RandomForestRegressor(random_state=42)</pre></div></div></div></div></div>"
            ]
          },
          "metadata": {},
          "execution_count": 164
        }
      ]
    },
    {
      "cell_type": "markdown",
      "source": [
        "Ahora se realizan predicciones utilizando el conjunto de prueba."
      ],
      "metadata": {
        "id": "xVKwYRa_Mi7V"
      }
    },
    {
      "cell_type": "code",
      "source": [
        "y_pred = model.predict(X_test)"
      ],
      "metadata": {
        "id": "DWrNEI9nMmrc"
      },
      "execution_count": 165,
      "outputs": []
    },
    {
      "cell_type": "markdown",
      "source": [
        "Ahora se evalua el rendimiento del modelo con mean squared error."
      ],
      "metadata": {
        "id": "KnnB6_KOMrO2"
      }
    },
    {
      "cell_type": "code",
      "source": [
        "mse = mean_squared_error(y_test, y_pred)\n",
        "print('Mean Squared Error:', mse)"
      ],
      "metadata": {
        "colab": {
          "base_uri": "https://localhost:8080/"
        },
        "id": "ph3t_6HRMwMF",
        "outputId": "fbf2c3d6-e07e-4718-f109-a933b279e001"
      },
      "execution_count": 166,
      "outputs": [
        {
          "output_type": "stream",
          "name": "stdout",
          "text": [
            "Mean Squared Error: 8.009541149889465\n"
          ]
        }
      ]
    }
  ]
}