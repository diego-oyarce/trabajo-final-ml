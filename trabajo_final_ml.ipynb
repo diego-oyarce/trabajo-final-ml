{
  "nbformat": 4,
  "nbformat_minor": 0,
  "metadata": {
    "colab": {
      "provenance": [],
      "authorship_tag": "ABX9TyPyh4+/bOyhrQk7ZKutdFzf",
      "include_colab_link": true
    },
    "kernelspec": {
      "name": "python3",
      "display_name": "Python 3"
    },
    "language_info": {
      "name": "python"
    }
  },
  "cells": [
    {
      "cell_type": "markdown",
      "metadata": {
        "id": "view-in-github",
        "colab_type": "text"
      },
      "source": [
        "<a href=\"https://colab.research.google.com/github/diego-oyarce/trabajo-final-ml/blob/main/trabajo_final_ml.ipynb\" target=\"_parent\"><img src=\"https://colab.research.google.com/assets/colab-badge.svg\" alt=\"Open In Colab\"/></a>"
      ]
    },
    {
      "cell_type": "markdown",
      "source": [
        "# Prueba de ciencia de datos de Empresa SoftWorld"
      ],
      "metadata": {
        "id": "eRx3tglpk20t"
      }
    },
    {
      "cell_type": "markdown",
      "source": [
        "Primero se procede a importar las librerias necesarias para trabajar con los datos y realizar el modelo de aprendizaje automático."
      ],
      "metadata": {
        "id": "9RUEB3UDlAYa"
      }
    },
    {
      "cell_type": "code",
      "execution_count": null,
      "metadata": {
        "id": "ukU9UJLciBz6"
      },
      "outputs": [],
      "source": [
        "import pandas as pd\n",
        "import numpy as np\n",
        "from sklearn.model_selection import train_test_split\n",
        "from sklearn.preprocessing import LabelEncoder\n",
        "from sklearn.ensemble import RandomForestRegressor\n",
        "from sklearn.metrics import mean_squared_error"
      ]
    },
    {
      "cell_type": "markdown",
      "source": [
        "Una vez importadas las librerias y funciones se continua con la lectura de archivos. Para esto se utiliza pandas."
      ],
      "metadata": {
        "id": "pYdRPrm3mJMl"
      }
    },
    {
      "cell_type": "code",
      "source": [
        "orders = pd.read_csv('orders.csv')\n",
        "order_products = pd.read_csv('order_products.csv')\n",
        "shoppers = pd.read_csv('shoppers.csv')\n",
        "store_branch = pd.read_csv('storebranch.csv')"
      ],
      "metadata": {
        "id": "zacJXe9gmWra"
      },
      "execution_count": null,
      "outputs": []
    },
    {
      "cell_type": "markdown",
      "source": [
        "A continuación, se unen los conjuntos de datos relevantes haciendo uso de las columnas clave."
      ],
      "metadata": {
        "id": "UejXrt5on3Hl"
      }
    },
    {
      "cell_type": "code",
      "source": [
        "data = orders.merge(order_products, on='order_id', how='left')\n",
        "data = data.merge(shoppers, on='shopper_id', how='left')\n",
        "data = data.merge(store_branch, on='store_branch_id', how='left')"
      ],
      "metadata": {
        "id": "clmkQEipoCf8"
      },
      "execution_count": null,
      "outputs": []
    },
    {
      "cell_type": "markdown",
      "source": [
        "Ahora se procede a eliminar las columnas que son inncesarias, es decir, aquellas que no se utilizarán para la predicción solicitada."
      ],
      "metadata": {
        "id": "HhR5n4piosE1"
      }
    },
    {
      "cell_type": "code",
      "source": [
        "columns_to_drop = ['order_id', 'product_id', 'shopper_id', 'store_branch_id']\n",
        "data = data.drop(columns_to_drop, axis=1)"
      ],
      "metadata": {
        "id": "A23oa2Cvo4Ww"
      },
      "execution_count": null,
      "outputs": []
    },
    {
      "cell_type": "markdown",
      "source": [
        "Luego de que se eliminaron los campos irrelevantes para generar el modelo se hace una \"limpieza\" simple de los datos eliminando las filas que contengan valores faltantes o nulos."
      ],
      "metadata": {
        "id": "aRFoij3npRSk"
      }
    },
    {
      "cell_type": "code",
      "source": [
        "data = data.dropna()"
      ],
      "metadata": {
        "id": "L3O-SXMtppOI"
      },
      "execution_count": null,
      "outputs": []
    },
    {
      "cell_type": "markdown",
      "source": [
        "Una vez limpiado el dataframe \"data\" se codifican las variables categóricas para que el modelo pueda usarlas posteriormente."
      ],
      "metadata": {
        "id": "kIjPIvTVpyEf"
      }
    },
    {
      "cell_type": "code",
      "source": [
        "label_encoder = LabelEncoder()\n",
        "data['buy_unit'] = label_encoder.fit_transform(data['buy_unit'])"
      ],
      "metadata": {
        "id": "eO413GbqqGxd"
      },
      "execution_count": null,
      "outputs": []
    }
  ]
}